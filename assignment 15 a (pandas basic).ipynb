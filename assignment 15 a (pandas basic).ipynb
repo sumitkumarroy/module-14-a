{
 "cells": [
  {
   "cell_type": "code",
   "execution_count": 6,
   "id": "4c0c3c19",
   "metadata": {},
   "outputs": [
    {
     "name": "stdout",
     "output_type": "stream",
     "text": [
      "0     4\n",
      "1     8\n",
      "2    15\n",
      "3    16\n",
      "4    23\n",
      "5    42\n",
      "dtype: int64\n"
     ]
    }
   ],
   "source": [
    "import pandas as pd\n",
    "\n",
    "data = [4, 8, 15, 16, 23, 42]\n",
    "series = pd.Series(data)\n",
    "print(series)\n"
   ]
  },
  {
   "cell_type": "code",
   "execution_count": 7,
   "id": "c5c6086a",
   "metadata": {},
   "outputs": [
    {
     "name": "stdout",
     "output_type": "stream",
     "text": [
      "0    19\n",
      "1    76\n",
      "2    66\n",
      "3    95\n",
      "4    66\n",
      "5     7\n",
      "6    83\n",
      "7     4\n",
      "8     9\n",
      "9    10\n",
      "dtype: int64\n"
     ]
    }
   ],
   "source": [
    "data_list = [19, 76,66 ,95, 66, 7, 83, 4, 9, 10]\n",
    "\n",
    "series_10 = pd.Series(data_list)\n",
    "\n",
    "print(series_10)\n"
   ]
  },
  {
   "cell_type": "code",
   "execution_count": 8,
   "id": "98ccd00a",
   "metadata": {},
   "outputs": [
    {
     "name": "stdout",
     "output_type": "stream",
     "text": [
      "     name  age  gender\n",
      "0   Alice   25  female\n",
      "1     bob   30    male\n",
      "2  claier   27  female\n"
     ]
    }
   ],
   "source": [
    "import pandas as pd\n",
    "\n",
    "data = {\n",
    "    'name': ['Alice', 'bob', 'claier'],\n",
    "    'age': [25,30,27],\n",
    "    'gender': ['female', 'male', 'female']\n",
    "}\n",
    "\n",
    "df = pd.DataFrame(data)\n",
    "print(df)\n"
   ]
  },
  {
   "cell_type": "code",
   "execution_count": 10,
   "id": "23658e6d",
   "metadata": {},
   "outputs": [
    {
     "name": "stdout",
     "output_type": "stream",
     "text": [
      "      Name  Age         City\n",
      "0    Alice   25     New York\n",
      "1      Bob   30  Los Angeles\n",
      "2  Charlie   35      Chicago\n"
     ]
    }
   ],
   "source": [
    "'''DataFrame in Pandas: A DataFrame is a 2-dimensional labeled data structure with columns of potentially different types. It \n",
    "can be thought of as a table, where each column contains data of a specific type (like integers, strings, floats, etc.). \n",
    "DataFrames are great for representing and manipulating structured data.'''\n",
    "'''A Series in Pandas is a one-dimensional labeled array capable of holding data of any type (integer, string, float, Python \n",
    "objects, etc.). It is like a single column of data.'''\n",
    "'''A DataFrame, on the other hand, is a 2-dimensional structure where each column can be a different data type, making it\n",
    "suitable for more complex data representation and operations involving multiple columns.'''\n",
    "import pandas as pd\n",
    "data = {\n",
    "    'Name': ['Alice', 'Bob', 'Charlie'],\n",
    "    'Age': [25, 30, 35],\n",
    "    'City': ['New York', 'Los Angeles', 'Chicago']\n",
    "}\n",
    "df = pd.DataFrame(data)\n",
    "\n",
    "print(df)\n"
   ]
  },
  {
   "cell_type": "code",
   "execution_count": 12,
   "id": "075ae6ca",
   "metadata": {},
   "outputs": [
    {
     "name": "stdout",
     "output_type": "stream",
     "text": [
      "      Name  Age         City\n",
      "0    Alice   25     New York\n",
      "1      Bob   30  Los Angeles\n",
      "2  Charlie   35      Chicago\n",
      "        Age\n",
      "count   3.0\n",
      "mean   30.0\n",
      "std     5.0\n",
      "min    25.0\n",
      "25%    27.5\n",
      "50%    30.0\n",
      "75%    32.5\n",
      "max    35.0\n"
     ]
    }
   ],
   "source": [
    "'''Some common functions to manipulate data in a Pandas DataFrame include:\n",
    "\n",
    "head() and tail(): To view the first or last few rows of the DataFrame.\n",
    "info(): To get a concise summary of the DataFrame including data types and missing values.\n",
    "describe(): Generates descriptive statistics of numerical columns.\n",
    "loc[] and iloc[]: For selection by label or by integer position.\n",
    "drop(): To remove rows or columns.\n",
    "groupby(): To group data and perform operations on the grouped data.'''\n",
    "import pandas as pd\n",
    "\n",
    "data = {\n",
    "    'Name': ['Alice', 'Bob', 'Charlie'],\n",
    "    'Age': [25, 30, 35],\n",
    "    'City': ['New York', 'Los Angeles', 'Chicago']\n",
    "}\n",
    "df = pd.DataFrame(data)\n",
    "\n",
    "print(df.head())\n",
    "print(df.describe())\n"
   ]
  },
  {
   "cell_type": "code",
   "execution_count": 13,
   "id": "79abf18d",
   "metadata": {},
   "outputs": [
    {
     "data": {
      "text/plain": [
       "'Mutable in nature: Series and DataFrame are mutable in Pandas. This means you can modify their values and add or remove rows\\nor columns after creation. Panels, which were 3-dimensional structures in earlier versions of Pandas, have been deprecated in\\nfavor of MultiIndexing and are not actively used or maintained in recent versions.'"
      ]
     },
     "execution_count": 13,
     "metadata": {},
     "output_type": "execute_result"
    }
   ],
   "source": [
    "'''Mutable in nature: Series and DataFrame are mutable in Pandas. This means you can modify their values and add or remove rows\n",
    "or columns after creation. Panels, which were 3-dimensional structures in earlier versions of Pandas, have been deprecated in\n",
    "favor of MultiIndexing and are not actively used or maintained in recent versions.'''"
   ]
  },
  {
   "cell_type": "code",
   "execution_count": 14,
   "id": "bd36005a",
   "metadata": {},
   "outputs": [
    {
     "name": "stdout",
     "output_type": "stream",
     "text": [
      "      Name  Age         City\n",
      "0    Alice   25     New York\n",
      "1      Bob   30  Los Angeles\n",
      "2  Charlie   35      Chicago\n"
     ]
    }
   ],
   "source": [
    "import pandas as pd\n",
    "\n",
    "name_series = pd.Series(['Alice', 'Bob', 'Charlie'])\n",
    "age_series = pd.Series([25, 30, 35])\n",
    "city_series = pd.Series(['New York', 'Los Angeles', 'Chicago'])\n",
    "\n",
    "data = {\n",
    "    'Name': name_series,\n",
    "    'Age': age_series,\n",
    "    'City': city_series\n",
    "}\n",
    "df = pd.DataFrame(data)\n",
    "\n",
    "print(df)\n"
   ]
  },
  {
   "cell_type": "code",
   "execution_count": null,
   "id": "05591219",
   "metadata": {},
   "outputs": [],
   "source": []
  }
 ],
 "metadata": {
  "kernelspec": {
   "display_name": "Python 3 (ipykernel)",
   "language": "python",
   "name": "python3"
  },
  "language_info": {
   "codemirror_mode": {
    "name": "ipython",
    "version": 3
   },
   "file_extension": ".py",
   "mimetype": "text/x-python",
   "name": "python",
   "nbconvert_exporter": "python",
   "pygments_lexer": "ipython3",
   "version": "3.11.4"
  }
 },
 "nbformat": 4,
 "nbformat_minor": 5
}
